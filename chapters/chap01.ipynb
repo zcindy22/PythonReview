{
  "cells": [
    {
      "cell_type": "markdown",
      "id": "1331faa1",
      "metadata": {
        "id": "1331faa1"
      },
      "source": [
        "You can order print and ebook versions of *Think Python 3e* from\n",
        "[Bookshop.org](https://bookshop.org/a/98697/9781098155438) and\n",
        "[Amazon](https://www.amazon.com/_/dp/1098155432?smid=ATVPDKIKX0DER&_encoding=UTF8&tag=oreilly20-20&_encoding=UTF8&tag=greenteapre01-20&linkCode=ur2&linkId=e2a529f94920295d27ec8a06e757dc7c&camp=1789&creative=9325)."
      ]
    },
    {
      "cell_type": "markdown",
      "id": "a14edb7e",
      "metadata": {
        "tags": [],
        "id": "a14edb7e"
      },
      "source": [
        "# Welcome\n",
        "\n",
        "This is the Jupyter notebook for Chapter 1 of [*Think Python*, 3rd edition](https://greenteapress.com/wp/think-python-3rd-edition), by Allen B. Downey.\n",
        "\n",
        "If you are not familiar with Jupyter notebooks,\n",
        "[click here for a short introduction](https://colab.research.google.com/github/AllenDowney/ThinkPython/blob/v3/chapters/jupyter_intro.ipynb).\n",
        "\n",
        "Then, if you are not already running this notebook on Colab, [click here to run this notebook on Colab](https://colab.research.google.com/github/AllenDowney/ThinkPython/blob/v3/chapters/chap01.ipynb)."
      ]
    },
    {
      "cell_type": "markdown",
      "id": "3b4a1f57",
      "metadata": {
        "tags": [],
        "id": "3b4a1f57"
      },
      "source": [
        "The following cell downloads a file and runs some code that is used specifically for this book.\n",
        "You don't have to understand this code yet, but you should run it before you do anything else in this notebook.\n",
        "Remember that you can run the code by selecting the cell and pressing the play button (a triangle in a circle) or hold down `Shift` and press `Enter`."
      ]
    },
    {
      "cell_type": "code",
      "execution_count": 32,
      "id": "213f9d96",
      "metadata": {
        "tags": [],
        "id": "213f9d96",
        "outputId": "91a64a0c-9a7f-4fe5-9456-6a57fa213c33",
        "colab": {
          "base_uri": "https://localhost:8080/"
        }
      },
      "outputs": [
        {
          "output_type": "stream",
          "name": "stdout",
          "text": [
            "Downloaded thinkpython.py\n"
          ]
        }
      ],
      "source": [
        "from os.path import basename, exists\n",
        "\n",
        "def download(url):\n",
        "    filename = basename(url)\n",
        "    if not exists(filename):\n",
        "        from urllib.request import urlretrieve\n",
        "\n",
        "        local, _ = urlretrieve(url, filename)\n",
        "        print(\"Downloaded \" + str(local))\n",
        "    return filename\n",
        "\n",
        "download('https://github.com/AllenDowney/ThinkPython/raw/v3/thinkpython.py');\n",
        "\n",
        "import thinkpython"
      ]
    },
    {
      "cell_type": "code",
      "source": [],
      "metadata": {
        "id": "6holvw09pd3r"
      },
      "id": "6holvw09pd3r",
      "execution_count": null,
      "outputs": []
    },
    {
      "cell_type": "markdown",
      "id": "333a6fc9",
      "metadata": {
        "tags": [],
        "id": "333a6fc9"
      },
      "source": [
        "# Programming as a way of thinking\n",
        "\n",
        "The first goal of this book is to teach you how to program in Python.\n",
        "But learning to program means learning a new way to think, so the second goal of this book is to help you think like a computer scientist.\n",
        "This way of thinking combines some of the best features of mathematics, engineering, and natural science.\n",
        "Like mathematicians, computer scientists use formal languages to denote ideas -- specifically computations.\n",
        "Like engineers, they design things, assembling components into systems and evaluating trade-offs among alternatives.\n",
        "Like scientists, they observe the behavior of complex systems, form hypotheses, and test predictions.\n",
        "\n",
        "We will start with the most basic elements of programming and work our way up.\n",
        "In this chapter, we'll see how Python represents numbers, letters, and words.\n",
        "And you'll learn to perform arithmetic operations.\n",
        "\n",
        "You will also start to learn the vocabulary of programming, including terms like operator, expression, value, and type.\n",
        "This vocabulary is important -- you will need it to understand the rest of the book, to communicate with other programmers, and to use and understand virtual assistants."
      ]
    },
    {
      "cell_type": "markdown",
      "id": "a371aea3",
      "metadata": {
        "id": "a371aea3"
      },
      "source": [
        "## Arithmetic operators\n",
        "\n",
        "An **arithmetic operator** is a symbol that represents an arithmetic computation. For example, the plus sign, `+`, performs addition."
      ]
    },
    {
      "cell_type": "code",
      "execution_count": 33,
      "id": "2568ec84",
      "metadata": {
        "id": "2568ec84",
        "outputId": "c3db1a8e-b309-4bbc-c5a2-acef0cc66282",
        "colab": {
          "base_uri": "https://localhost:8080/"
        }
      },
      "outputs": [
        {
          "output_type": "execute_result",
          "data": {
            "text/plain": [
              "42"
            ]
          },
          "metadata": {},
          "execution_count": 33
        }
      ],
      "source": [
        "30 + 12"
      ]
    },
    {
      "cell_type": "markdown",
      "id": "fc0e7ce8",
      "metadata": {
        "id": "fc0e7ce8"
      },
      "source": [
        "The minus sign, `-`, is the operator that performs subtraction."
      ]
    },
    {
      "cell_type": "code",
      "execution_count": 34,
      "id": "c4e75456",
      "metadata": {
        "id": "c4e75456",
        "outputId": "c0be34a9-a85e-44f4-d0bd-98cb5bf27be5",
        "colab": {
          "base_uri": "https://localhost:8080/"
        }
      },
      "outputs": [
        {
          "output_type": "execute_result",
          "data": {
            "text/plain": [
              "42"
            ]
          },
          "metadata": {},
          "execution_count": 34
        }
      ],
      "source": [
        "43 - 1"
      ]
    },
    {
      "cell_type": "markdown",
      "id": "63e4e780",
      "metadata": {
        "id": "63e4e780"
      },
      "source": [
        "The asterisk, `*`,  performs multiplication."
      ]
    },
    {
      "cell_type": "code",
      "execution_count": 35,
      "id": "022a7b16",
      "metadata": {
        "id": "022a7b16",
        "outputId": "3f78ac78-a55d-4082-990e-b4488f3b48ee",
        "colab": {
          "base_uri": "https://localhost:8080/"
        }
      },
      "outputs": [
        {
          "output_type": "execute_result",
          "data": {
            "text/plain": [
              "42"
            ]
          },
          "metadata": {},
          "execution_count": 35
        }
      ],
      "source": [
        "6 * 7"
      ]
    },
    {
      "cell_type": "markdown",
      "id": "a6192d13",
      "metadata": {
        "id": "a6192d13"
      },
      "source": [
        "And the forward slash, `/`, performs division:"
      ]
    },
    {
      "cell_type": "code",
      "execution_count": 36,
      "id": "05ae1098",
      "metadata": {
        "id": "05ae1098",
        "outputId": "a00315ed-5e8f-4f03-9e37-e7c8c9f63d22",
        "colab": {
          "base_uri": "https://localhost:8080/"
        }
      },
      "outputs": [
        {
          "output_type": "execute_result",
          "data": {
            "text/plain": [
              "42.0"
            ]
          },
          "metadata": {},
          "execution_count": 36
        }
      ],
      "source": [
        "84 / 2"
      ]
    },
    {
      "cell_type": "markdown",
      "id": "641ad233",
      "metadata": {
        "id": "641ad233"
      },
      "source": [
        "Notice that the result of the division is `42.0` rather than `42`. That's because there are two types of numbers in Python:\n",
        "\n",
        "* **integers**, which represent numbers with no fractional or decimal part, and\n",
        "\n",
        "* **floating-point numbers**, which represent integers and numbers with a decimal point.\n",
        "\n",
        "If you add, subtract, or multiply two integers, the result is an integer.\n",
        "But if you divide two integers, the result is a floating-point number.\n",
        "Python provides another operator, `//`, that performs **integer division**.\n",
        "The result of integer division is always an integer."
      ]
    },
    {
      "cell_type": "code",
      "execution_count": 37,
      "id": "4df5bcaa",
      "metadata": {
        "id": "4df5bcaa",
        "outputId": "2e1ddae9-e676-4324-a8cf-5f67bab197f5",
        "colab": {
          "base_uri": "https://localhost:8080/"
        }
      },
      "outputs": [
        {
          "output_type": "execute_result",
          "data": {
            "text/plain": [
              "42"
            ]
          },
          "metadata": {},
          "execution_count": 37
        }
      ],
      "source": [
        "84 // 2"
      ]
    },
    {
      "cell_type": "markdown",
      "id": "b2a620ab",
      "metadata": {
        "id": "b2a620ab"
      },
      "source": [
        "Integer division is also called \"floor division\" because it always rounds down (toward the \"floor\")."
      ]
    },
    {
      "cell_type": "code",
      "execution_count": 38,
      "id": "ef08d549",
      "metadata": {
        "id": "ef08d549",
        "outputId": "bd83fbe9-b21f-4a85-82b2-6378ca8d2a79",
        "colab": {
          "base_uri": "https://localhost:8080/"
        }
      },
      "outputs": [
        {
          "output_type": "execute_result",
          "data": {
            "text/plain": [
              "42"
            ]
          },
          "metadata": {},
          "execution_count": 38
        }
      ],
      "source": [
        "85 // 2"
      ]
    },
    {
      "cell_type": "markdown",
      "id": "41e2886a",
      "metadata": {
        "id": "41e2886a"
      },
      "source": [
        "Finally, the operator `**` performs exponentiation; that is, it raises a\n",
        "number to a power:"
      ]
    },
    {
      "cell_type": "code",
      "execution_count": 39,
      "id": "df933e80",
      "metadata": {
        "id": "df933e80",
        "outputId": "25001bf5-e621-4352-daa9-a8fa3e75c884",
        "colab": {
          "base_uri": "https://localhost:8080/"
        }
      },
      "outputs": [
        {
          "output_type": "execute_result",
          "data": {
            "text/plain": [
              "49"
            ]
          },
          "metadata": {},
          "execution_count": 39
        }
      ],
      "source": [
        "7 ** 2"
      ]
    },
    {
      "cell_type": "markdown",
      "id": "b2502fb6",
      "metadata": {
        "id": "b2502fb6"
      },
      "source": [
        "In some other languages, the caret, `^`, is used for exponentiation, but in Python\n",
        "it is a bitwise operator called XOR.\n",
        "If you are not familiar with bitwise operators, the result might be unexpected:"
      ]
    },
    {
      "cell_type": "code",
      "execution_count": 40,
      "id": "306b6b88",
      "metadata": {
        "id": "306b6b88",
        "outputId": "d8a8940d-73e1-4375-8d98-b7f11fe44370",
        "colab": {
          "base_uri": "https://localhost:8080/"
        }
      },
      "outputs": [
        {
          "output_type": "execute_result",
          "data": {
            "text/plain": [
              "5"
            ]
          },
          "metadata": {},
          "execution_count": 40
        }
      ],
      "source": [
        "7 ^ 2"
      ]
    },
    {
      "cell_type": "markdown",
      "id": "30078370",
      "metadata": {
        "id": "30078370"
      },
      "source": [
        "I won't cover bitwise operators in this book, but you can read about\n",
        "them at <http://wiki.python.org/moin/BitwiseOperators>."
      ]
    },
    {
      "cell_type": "markdown",
      "id": "0f5b7e97",
      "metadata": {
        "id": "0f5b7e97"
      },
      "source": [
        "## Expressions\n",
        "\n",
        "A collection of operators and numbers is called an **expression**.\n",
        "An expression can contain any number of operators and numbers.\n",
        "For example, here's an expression that contains two operators."
      ]
    },
    {
      "cell_type": "code",
      "execution_count": 41,
      "id": "6e68101d",
      "metadata": {
        "id": "6e68101d",
        "outputId": "0b437fbf-3a85-4b4d-b0c2-2a13901574db",
        "colab": {
          "base_uri": "https://localhost:8080/"
        }
      },
      "outputs": [
        {
          "output_type": "execute_result",
          "data": {
            "text/plain": [
              "42"
            ]
          },
          "metadata": {},
          "execution_count": 41
        }
      ],
      "source": [
        "6 + 6 ** 2"
      ]
    },
    {
      "cell_type": "markdown",
      "id": "8e95039c",
      "metadata": {
        "id": "8e95039c"
      },
      "source": [
        "Notice that exponentiation happens before addition.\n",
        "Python follows the order of operations you might have learned in a math class: exponentiation happens before multiplication and division, which happen before addition and subtraction.\n",
        "\n",
        "In the following example, multiplication happens before addition."
      ]
    },
    {
      "cell_type": "code",
      "execution_count": 42,
      "id": "ffc25598",
      "metadata": {
        "id": "ffc25598",
        "outputId": "dfcf273e-fabb-4500-c68c-220e7628b66b",
        "colab": {
          "base_uri": "https://localhost:8080/"
        }
      },
      "outputs": [
        {
          "output_type": "execute_result",
          "data": {
            "text/plain": [
              "42"
            ]
          },
          "metadata": {},
          "execution_count": 42
        }
      ],
      "source": [
        "12 + 5 * 6"
      ]
    },
    {
      "cell_type": "markdown",
      "id": "914a60d8",
      "metadata": {
        "id": "914a60d8"
      },
      "source": [
        "If you want the addition to happen first, you can use parentheses."
      ]
    },
    {
      "cell_type": "code",
      "execution_count": 43,
      "id": "8dd1bd9a",
      "metadata": {
        "id": "8dd1bd9a",
        "outputId": "0d378fc6-cc6d-45fc-a23f-03ce83396bae",
        "colab": {
          "base_uri": "https://localhost:8080/"
        }
      },
      "outputs": [
        {
          "output_type": "execute_result",
          "data": {
            "text/plain": [
              "102"
            ]
          },
          "metadata": {},
          "execution_count": 43
        }
      ],
      "source": [
        "(12 + 5) * 6"
      ]
    },
    {
      "cell_type": "markdown",
      "id": "67ae0ae9",
      "metadata": {
        "id": "67ae0ae9"
      },
      "source": [
        "Every expression has a **value**.\n",
        "For example, the expression `6 * 7` has the value `42`."
      ]
    },
    {
      "cell_type": "markdown",
      "id": "caebaa51",
      "metadata": {
        "id": "caebaa51"
      },
      "source": [
        "## Arithmetic functions\n",
        "\n",
        "In addition to the arithmetic operators, Python provides a few **functions** that work with numbers.\n",
        "For example, the `round` function takes a floating-point number and rounds it off to the nearest integer."
      ]
    },
    {
      "cell_type": "code",
      "execution_count": 44,
      "id": "1e3d5e01",
      "metadata": {
        "id": "1e3d5e01",
        "outputId": "7bdb633b-8cc4-4056-a825-971bd6eadc3c",
        "colab": {
          "base_uri": "https://localhost:8080/"
        }
      },
      "outputs": [
        {
          "output_type": "execute_result",
          "data": {
            "text/plain": [
              "42"
            ]
          },
          "metadata": {},
          "execution_count": 44
        }
      ],
      "source": [
        "round(42.4)"
      ]
    },
    {
      "cell_type": "code",
      "execution_count": 45,
      "id": "d1b220b9",
      "metadata": {
        "id": "d1b220b9",
        "outputId": "6ddfe9c6-1b81-43d8-b632-00ecaacc94aa",
        "colab": {
          "base_uri": "https://localhost:8080/"
        }
      },
      "outputs": [
        {
          "output_type": "execute_result",
          "data": {
            "text/plain": [
              "43"
            ]
          },
          "metadata": {},
          "execution_count": 45
        }
      ],
      "source": [
        "round(42.6)"
      ]
    },
    {
      "cell_type": "markdown",
      "id": "f5738b4b",
      "metadata": {
        "id": "f5738b4b"
      },
      "source": [
        "The `abs` function computes the absolute value of a number.\n",
        "For a positive number, the absolute value is the number itself."
      ]
    },
    {
      "cell_type": "code",
      "execution_count": 46,
      "id": "ff742476",
      "metadata": {
        "id": "ff742476",
        "outputId": "3ee2935b-3c1d-4d18-aafb-334224510955",
        "colab": {
          "base_uri": "https://localhost:8080/"
        }
      },
      "outputs": [
        {
          "output_type": "execute_result",
          "data": {
            "text/plain": [
              "42"
            ]
          },
          "metadata": {},
          "execution_count": 46
        }
      ],
      "source": [
        "abs(42)"
      ]
    },
    {
      "cell_type": "markdown",
      "id": "e518494a",
      "metadata": {
        "id": "e518494a"
      },
      "source": [
        "For a negative number, the absolute value is positive."
      ]
    },
    {
      "cell_type": "code",
      "execution_count": 47,
      "id": "9247c1a3",
      "metadata": {
        "id": "9247c1a3",
        "outputId": "41766f68-4031-455d-de01-b86d19e44a99",
        "colab": {
          "base_uri": "https://localhost:8080/"
        }
      },
      "outputs": [
        {
          "output_type": "execute_result",
          "data": {
            "text/plain": [
              "42"
            ]
          },
          "metadata": {},
          "execution_count": 47
        }
      ],
      "source": [
        "abs(-42)"
      ]
    },
    {
      "cell_type": "markdown",
      "id": "6969ce45",
      "metadata": {
        "id": "6969ce45"
      },
      "source": [
        "When we use a function like this, we say we're **calling** the function.\n",
        "An expression that calls a function is a **function call**.\n",
        "\n",
        "When you call a function, the parentheses are required.\n",
        "If you leave them out, you get an error message."
      ]
    },
    {
      "cell_type": "markdown",
      "id": "5a73bfd5",
      "metadata": {
        "tags": [],
        "id": "5a73bfd5"
      },
      "source": [
        "NOTE: The following cell uses `%%expect`, which is a Jupyter \"magic command\" that means we expect the code in this cell to produce an error. For more on this topic, see the\n",
        "[Jupyter notebook introduction](https://colab.research.google.com/github/AllenDowney/ThinkPython/blob/v3/chapters/jupyter_intro.ipynb)."
      ]
    },
    {
      "cell_type": "code",
      "execution_count": 48,
      "id": "4674b7ca",
      "metadata": {
        "tags": [],
        "id": "4674b7ca",
        "outputId": "05e02189-fad9-4cb8-ddd1-43610ef1d035",
        "colab": {
          "base_uri": "https://localhost:8080/",
          "height": 108
        }
      },
      "outputs": [
        {
          "output_type": "error",
          "ename": "SyntaxError",
          "evalue": "invalid syntax (ipython-input-3827346253.py, line 1)",
          "traceback": [
            "\u001b[0;36m  File \u001b[0;32m\"/tmp/ipython-input-3827346253.py\"\u001b[0;36m, line \u001b[0;32m1\u001b[0m\n\u001b[0;31m    abs 42\u001b[0m\n\u001b[0m        ^\u001b[0m\n\u001b[0;31mSyntaxError\u001b[0m\u001b[0;31m:\u001b[0m invalid syntax\n"
          ]
        }
      ],
      "source": [
        "%%expect SyntaxError\n",
        "\n",
        "abs 42"
      ]
    },
    {
      "cell_type": "markdown",
      "id": "7d356f1b",
      "metadata": {
        "id": "7d356f1b"
      },
      "source": [
        "You can ignore the first line of this message; it doesn't contain any information we need to understand right now.\n",
        "The second line is the code that contains the error, with a caret (`^`) beneath it to indicate where the error was discovered.\n",
        "\n",
        "The last line indicates that this is a **syntax error**, which means that there is something wrong with the structure of the expression.\n",
        "In this example, the problem is that a function call requires parentheses.\n",
        "\n",
        "Let's see what happens if you leave out the parentheses *and* the value."
      ]
    },
    {
      "cell_type": "code",
      "execution_count": 49,
      "id": "7d3e8127",
      "metadata": {
        "id": "7d3e8127",
        "outputId": "47bc837c-33cf-4319-f1cf-8dafa0cd0e4d",
        "colab": {
          "base_uri": "https://localhost:8080/"
        }
      },
      "outputs": [
        {
          "output_type": "execute_result",
          "data": {
            "text/plain": [
              "<function abs(x, /)>"
            ]
          },
          "metadata": {},
          "execution_count": 49
        }
      ],
      "source": [
        "abs"
      ]
    },
    {
      "cell_type": "markdown",
      "id": "94478885",
      "metadata": {
        "id": "94478885"
      },
      "source": [
        "A function name all by itself is a legal expression that has a value.\n",
        "When it's displayed, the value indicates that `abs` is a function, and it includes some additional information I'll explain later."
      ]
    },
    {
      "cell_type": "markdown",
      "id": "31a85d17",
      "metadata": {
        "id": "31a85d17"
      },
      "source": [
        "## Strings\n",
        "\n",
        "In addition to numbers, Python can also represent sequences of letters, which are called **strings** because the letters are strung together like beads on a necklace.\n",
        "To write a string, we can put a sequence of letters inside straight quotation marks."
      ]
    },
    {
      "cell_type": "code",
      "execution_count": 50,
      "id": "bd8ae45f",
      "metadata": {
        "id": "bd8ae45f",
        "outputId": "647395d8-f974-4d47-f53c-034cb153232b",
        "colab": {
          "base_uri": "https://localhost:8080/",
          "height": 35
        }
      },
      "outputs": [
        {
          "output_type": "execute_result",
          "data": {
            "text/plain": [
              "'Hello'"
            ],
            "application/vnd.google.colaboratory.intrinsic+json": {
              "type": "string"
            }
          },
          "metadata": {},
          "execution_count": 50
        }
      ],
      "source": [
        "'Hello'"
      ]
    },
    {
      "cell_type": "markdown",
      "id": "d20050d8",
      "metadata": {
        "id": "d20050d8"
      },
      "source": [
        "It is also legal to use double quotation marks."
      ]
    },
    {
      "cell_type": "code",
      "execution_count": 51,
      "id": "01d0055e",
      "metadata": {
        "id": "01d0055e",
        "outputId": "e54697be-1761-4c80-a402-3da9e3bd44ef",
        "colab": {
          "base_uri": "https://localhost:8080/",
          "height": 35
        }
      },
      "outputs": [
        {
          "output_type": "execute_result",
          "data": {
            "text/plain": [
              "'world'"
            ],
            "application/vnd.google.colaboratory.intrinsic+json": {
              "type": "string"
            }
          },
          "metadata": {},
          "execution_count": 51
        }
      ],
      "source": [
        "\"world\""
      ]
    },
    {
      "cell_type": "markdown",
      "id": "76f5edb7",
      "metadata": {
        "id": "76f5edb7"
      },
      "source": [
        "Double quotes make it easy to write a string that contains an apostrophe, which is the same symbol as a straight quote."
      ]
    },
    {
      "cell_type": "code",
      "execution_count": 52,
      "id": "0295acab",
      "metadata": {
        "id": "0295acab",
        "outputId": "258eb368-2c3b-437a-b2ed-71183c2d49c5",
        "colab": {
          "base_uri": "https://localhost:8080/",
          "height": 35
        }
      },
      "outputs": [
        {
          "output_type": "execute_result",
          "data": {
            "text/plain": [
              "\"it's a small \""
            ],
            "application/vnd.google.colaboratory.intrinsic+json": {
              "type": "string"
            }
          },
          "metadata": {},
          "execution_count": 52
        }
      ],
      "source": [
        "\"it's a small \""
      ]
    },
    {
      "cell_type": "markdown",
      "id": "d62d4b1c",
      "metadata": {
        "id": "d62d4b1c"
      },
      "source": [
        "Strings can also contain spaces, punctuation, and digits."
      ]
    },
    {
      "cell_type": "code",
      "execution_count": 53,
      "id": "cf918917",
      "metadata": {
        "id": "cf918917",
        "outputId": "8af06ab4-b663-4293-a251-39cfc5c44377",
        "colab": {
          "base_uri": "https://localhost:8080/",
          "height": 35
        }
      },
      "outputs": [
        {
          "output_type": "execute_result",
          "data": {
            "text/plain": [
              "'Well, '"
            ],
            "application/vnd.google.colaboratory.intrinsic+json": {
              "type": "string"
            }
          },
          "metadata": {},
          "execution_count": 53
        }
      ],
      "source": [
        "'Well, '"
      ]
    },
    {
      "cell_type": "markdown",
      "id": "9ad47f7a",
      "metadata": {
        "id": "9ad47f7a"
      },
      "source": [
        "The `+` operator works with strings; it joins two strings into a single string, which is called **concatenation**"
      ]
    },
    {
      "cell_type": "code",
      "execution_count": 54,
      "id": "aefe6af1",
      "metadata": {
        "id": "aefe6af1",
        "outputId": "ad24a053-f13d-49d3-b04b-5d6d5152ce73",
        "colab": {
          "base_uri": "https://localhost:8080/",
          "height": 35
        }
      },
      "outputs": [
        {
          "output_type": "execute_result",
          "data": {
            "text/plain": [
              "\"Well, it's a small world.\""
            ],
            "application/vnd.google.colaboratory.intrinsic+json": {
              "type": "string"
            }
          },
          "metadata": {},
          "execution_count": 54
        }
      ],
      "source": [
        "'Well, ' + \"it's a small \" + 'world.'"
      ]
    },
    {
      "cell_type": "markdown",
      "id": "0ad969a3",
      "metadata": {
        "id": "0ad969a3"
      },
      "source": [
        "The `*` operator also works with strings; it makes multiple copies of a string and concatenates them."
      ]
    },
    {
      "cell_type": "code",
      "execution_count": 55,
      "id": "42e9e4e2",
      "metadata": {
        "id": "42e9e4e2",
        "outputId": "62a1c065-5737-46bf-cf8c-1763bcc06856",
        "colab": {
          "base_uri": "https://localhost:8080/",
          "height": 35
        }
      },
      "outputs": [
        {
          "output_type": "execute_result",
          "data": {
            "text/plain": [
              "'Spam, Spam, Spam, Spam, '"
            ],
            "application/vnd.google.colaboratory.intrinsic+json": {
              "type": "string"
            }
          },
          "metadata": {},
          "execution_count": 55
        }
      ],
      "source": [
        "'Spam, ' * 4"
      ]
    },
    {
      "cell_type": "markdown",
      "id": "dfba16a5",
      "metadata": {
        "id": "dfba16a5"
      },
      "source": [
        "The other arithmetic operators don't work with strings.\n",
        "\n",
        "Python provides a function called `len` that computes the length of a string."
      ]
    },
    {
      "cell_type": "code",
      "execution_count": 56,
      "id": "a5e837db",
      "metadata": {
        "id": "a5e837db",
        "outputId": "e107dfd7-9cc5-4f73-f9c6-aec48b2f4750",
        "colab": {
          "base_uri": "https://localhost:8080/"
        }
      },
      "outputs": [
        {
          "output_type": "execute_result",
          "data": {
            "text/plain": [
              "4"
            ]
          },
          "metadata": {},
          "execution_count": 56
        }
      ],
      "source": [
        "len('Spam')"
      ]
    },
    {
      "cell_type": "markdown",
      "id": "d91e00b3",
      "metadata": {
        "id": "d91e00b3"
      },
      "source": [
        "Notice that `len` counts the letters between the quotes, but not the quotes.\n",
        "\n",
        "When you create a string, be sure to use straight quotes.\n",
        "The back quote, also known as a backtick, causes a syntax error."
      ]
    },
    {
      "cell_type": "code",
      "execution_count": 57,
      "id": "e3f65f19",
      "metadata": {
        "tags": [],
        "id": "e3f65f19",
        "outputId": "d15e27ee-b0a0-4c63-a6be-6beb1b086faa",
        "colab": {
          "base_uri": "https://localhost:8080/",
          "height": 108
        }
      },
      "outputs": [
        {
          "output_type": "error",
          "ename": "SyntaxError",
          "evalue": "invalid syntax (ipython-input-1580190030.py, line 1)",
          "traceback": [
            "\u001b[0;36m  File \u001b[0;32m\"/tmp/ipython-input-1580190030.py\"\u001b[0;36m, line \u001b[0;32m1\u001b[0m\n\u001b[0;31m    `Hello`\u001b[0m\n\u001b[0m    ^\u001b[0m\n\u001b[0;31mSyntaxError\u001b[0m\u001b[0;31m:\u001b[0m invalid syntax\n"
          ]
        }
      ],
      "source": [
        "%%expect SyntaxError\n",
        "\n",
        "`Hello`"
      ]
    },
    {
      "cell_type": "markdown",
      "id": "40d893d1",
      "metadata": {
        "id": "40d893d1"
      },
      "source": [
        "Smart quotes, also known as curly quotes, are also illegal."
      ]
    },
    {
      "cell_type": "code",
      "execution_count": 58,
      "id": "a705b980",
      "metadata": {
        "tags": [],
        "id": "a705b980",
        "outputId": "25a4c78b-b98a-406b-ad45-72bce5d080c3",
        "colab": {
          "base_uri": "https://localhost:8080/",
          "height": 108
        }
      },
      "outputs": [
        {
          "output_type": "error",
          "ename": "SyntaxError",
          "evalue": "invalid character '‘' (U+2018) (ipython-input-232449189.py, line 1)",
          "traceback": [
            "\u001b[0;36m  File \u001b[0;32m\"/tmp/ipython-input-232449189.py\"\u001b[0;36m, line \u001b[0;32m1\u001b[0m\n\u001b[0;31m    ‘Hello’\u001b[0m\n\u001b[0m    ^\u001b[0m\n\u001b[0;31mSyntaxError\u001b[0m\u001b[0;31m:\u001b[0m invalid character '‘' (U+2018)\n"
          ]
        }
      ],
      "source": [
        "%%expect SyntaxError\n",
        "\n",
        "‘Hello’"
      ]
    },
    {
      "cell_type": "markdown",
      "id": "5471d4f8",
      "metadata": {
        "id": "5471d4f8"
      },
      "source": [
        "## Values and types\n",
        "\n",
        "So far we've seen three kinds of values:\n",
        "\n",
        "* `2` is an integer,\n",
        "\n",
        "* `42.0` is a floating-point number, and\n",
        "\n",
        "* `'Hello'` is a string.\n",
        "\n",
        "A kind of value is called a **type**.\n",
        "Every value has a type -- or we sometimes say it \"belongs to\" a type.\n",
        "\n",
        "Python provides a function called `type` that tells you the type of any value.\n",
        "The type of an integer is `int`."
      ]
    },
    {
      "cell_type": "code",
      "execution_count": 59,
      "id": "3df8e2c5",
      "metadata": {
        "id": "3df8e2c5",
        "outputId": "8913e26c-2a5e-45ba-bef2-c00a17f1dd81",
        "colab": {
          "base_uri": "https://localhost:8080/"
        }
      },
      "outputs": [
        {
          "output_type": "execute_result",
          "data": {
            "text/plain": [
              "int"
            ]
          },
          "metadata": {},
          "execution_count": 59
        }
      ],
      "source": [
        "type(2)"
      ]
    },
    {
      "cell_type": "markdown",
      "id": "b137814c",
      "metadata": {
        "id": "b137814c"
      },
      "source": [
        "The type of a floating-point number is `float`."
      ]
    },
    {
      "cell_type": "code",
      "execution_count": 60,
      "id": "c4732c8d",
      "metadata": {
        "id": "c4732c8d",
        "outputId": "50a37c6b-6069-45e3-fecf-782a52a8a802",
        "colab": {
          "base_uri": "https://localhost:8080/"
        }
      },
      "outputs": [
        {
          "output_type": "execute_result",
          "data": {
            "text/plain": [
              "float"
            ]
          },
          "metadata": {},
          "execution_count": 60
        }
      ],
      "source": [
        "type(42.0)"
      ]
    },
    {
      "cell_type": "markdown",
      "id": "266dea4e",
      "metadata": {
        "id": "266dea4e"
      },
      "source": [
        "And the type of a string is `str`."
      ]
    },
    {
      "cell_type": "code",
      "execution_count": 61,
      "id": "8f65ac45",
      "metadata": {
        "id": "8f65ac45",
        "outputId": "b76ad45a-e219-415e-923d-57ed0cc39c38",
        "colab": {
          "base_uri": "https://localhost:8080/"
        }
      },
      "outputs": [
        {
          "output_type": "execute_result",
          "data": {
            "text/plain": [
              "str"
            ]
          },
          "metadata": {},
          "execution_count": 61
        }
      ],
      "source": [
        "type('Hello, World!')"
      ]
    },
    {
      "cell_type": "markdown",
      "id": "76d216ed",
      "metadata": {
        "id": "76d216ed"
      },
      "source": [
        "The types `int`, `float`, and `str` can be used as functions.\n",
        "For example, `int` can take a floating-point number and convert it to an integer (always rounding down)."
      ]
    },
    {
      "cell_type": "code",
      "execution_count": 62,
      "id": "84b22f2f",
      "metadata": {
        "id": "84b22f2f",
        "outputId": "69399548-bc8c-4ef2-a8be-45654f4409cd",
        "colab": {
          "base_uri": "https://localhost:8080/"
        }
      },
      "outputs": [
        {
          "output_type": "execute_result",
          "data": {
            "text/plain": [
              "42"
            ]
          },
          "metadata": {},
          "execution_count": 62
        }
      ],
      "source": [
        "int(42.9)"
      ]
    },
    {
      "cell_type": "markdown",
      "id": "dcd8d114",
      "metadata": {
        "id": "dcd8d114"
      },
      "source": [
        "And `float` can convert an integer to a floating-point value."
      ]
    },
    {
      "cell_type": "code",
      "execution_count": 63,
      "id": "9b66ee21",
      "metadata": {
        "id": "9b66ee21",
        "outputId": "e5b5351a-8e26-4d27-8a8f-bda8b345df1b",
        "colab": {
          "base_uri": "https://localhost:8080/"
        }
      },
      "outputs": [
        {
          "output_type": "execute_result",
          "data": {
            "text/plain": [
              "42.0"
            ]
          },
          "metadata": {},
          "execution_count": 63
        }
      ],
      "source": [
        "float(42)"
      ]
    },
    {
      "cell_type": "markdown",
      "id": "eda70b61",
      "metadata": {
        "id": "eda70b61"
      },
      "source": [
        "Now, here's something that can be confusing.\n",
        "What do you get if you put a sequence of digits in quotes?"
      ]
    },
    {
      "cell_type": "code",
      "execution_count": 64,
      "id": "f64e107c",
      "metadata": {
        "id": "f64e107c",
        "outputId": "0e41d2d5-fbdc-4e91-ef1f-81a83ed6156b",
        "colab": {
          "base_uri": "https://localhost:8080/",
          "height": 35
        }
      },
      "outputs": [
        {
          "output_type": "execute_result",
          "data": {
            "text/plain": [
              "'126'"
            ],
            "application/vnd.google.colaboratory.intrinsic+json": {
              "type": "string"
            }
          },
          "metadata": {},
          "execution_count": 64
        }
      ],
      "source": [
        "'126'"
      ]
    },
    {
      "cell_type": "markdown",
      "id": "fdded653",
      "metadata": {
        "id": "fdded653"
      },
      "source": [
        "It looks like a number, but it is actually a string."
      ]
    },
    {
      "cell_type": "code",
      "execution_count": 65,
      "id": "609a8153",
      "metadata": {
        "id": "609a8153",
        "outputId": "12c43346-18bb-4d1f-ef5f-1b191704e01a",
        "colab": {
          "base_uri": "https://localhost:8080/"
        }
      },
      "outputs": [
        {
          "output_type": "execute_result",
          "data": {
            "text/plain": [
              "str"
            ]
          },
          "metadata": {},
          "execution_count": 65
        }
      ],
      "source": [
        "type('126')"
      ]
    },
    {
      "cell_type": "markdown",
      "id": "2683ac35",
      "metadata": {
        "id": "2683ac35"
      },
      "source": [
        "If you try to use it like a number, you might get an error."
      ]
    },
    {
      "cell_type": "code",
      "execution_count": 66,
      "id": "1cf21da4",
      "metadata": {
        "tags": [],
        "id": "1cf21da4",
        "outputId": "ea023d2d-edcf-48e2-9f2d-b0bfdb741259",
        "colab": {
          "base_uri": "https://localhost:8080/",
          "height": 55
        }
      },
      "outputs": [
        {
          "output_type": "error",
          "ename": "TypeError",
          "evalue": "unsupported operand type(s) for /: 'str' and 'int'",
          "traceback": [
            "\u001b[0;31mTypeError\u001b[0m\u001b[0;31m:\u001b[0m unsupported operand type(s) for /: 'str' and 'int'\n"
          ]
        }
      ],
      "source": [
        "%%expect TypeError\n",
        "\n",
        "'126' / 3"
      ]
    },
    {
      "cell_type": "markdown",
      "id": "32c11cc4",
      "metadata": {
        "id": "32c11cc4"
      },
      "source": [
        "This example generates a `TypeError`, which means that the values in the expression, which are called **operands**, have the wrong type.\n",
        "The error message indicates that the `/` operator does not support the types of these values, which are `str` and `int`.\n",
        "\n",
        "If you have a string that contains digits, you can use `int` to convert it to an integer."
      ]
    },
    {
      "cell_type": "code",
      "execution_count": 67,
      "id": "d45e6a60",
      "metadata": {
        "id": "d45e6a60",
        "outputId": "32f8802d-4d5b-4a4d-c471-6a638271d19e",
        "colab": {
          "base_uri": "https://localhost:8080/"
        }
      },
      "outputs": [
        {
          "output_type": "execute_result",
          "data": {
            "text/plain": [
              "42.0"
            ]
          },
          "metadata": {},
          "execution_count": 67
        }
      ],
      "source": [
        "int('126') / 3"
      ]
    },
    {
      "cell_type": "markdown",
      "id": "86935d56",
      "metadata": {
        "id": "86935d56"
      },
      "source": [
        "If you have a string that contains digits and a decimal point, you can use `float` to convert it to a floating-point number."
      ]
    },
    {
      "cell_type": "code",
      "execution_count": 68,
      "id": "db30b719",
      "metadata": {
        "id": "db30b719",
        "outputId": "e0629586-f6b4-487a-a941-6d56b253618d",
        "colab": {
          "base_uri": "https://localhost:8080/"
        }
      },
      "outputs": [
        {
          "output_type": "execute_result",
          "data": {
            "text/plain": [
              "12.6"
            ]
          },
          "metadata": {},
          "execution_count": 68
        }
      ],
      "source": [
        "float('12.6')"
      ]
    },
    {
      "cell_type": "markdown",
      "id": "03103ef4",
      "metadata": {
        "id": "03103ef4"
      },
      "source": [
        "When you write a large integer, you might be tempted to use commas\n",
        "between groups of digits, as in `1,000,000`.\n",
        "This is a legal expression in Python, but the result is not an integer."
      ]
    },
    {
      "cell_type": "code",
      "execution_count": 69,
      "id": "d72b6af1",
      "metadata": {
        "id": "d72b6af1",
        "outputId": "5c8d3109-4593-418d-df09-40bb490d6275",
        "colab": {
          "base_uri": "https://localhost:8080/"
        }
      },
      "outputs": [
        {
          "output_type": "execute_result",
          "data": {
            "text/plain": [
              "(1, 0, 0)"
            ]
          },
          "metadata": {},
          "execution_count": 69
        }
      ],
      "source": [
        "1,000,000"
      ]
    },
    {
      "cell_type": "markdown",
      "id": "3d24af71",
      "metadata": {
        "id": "3d24af71"
      },
      "source": [
        "Python interprets `1,000,000` as a comma-separated sequence of integers.\n",
        "We'll learn more about this kind of sequence later.\n",
        "\n",
        "You can use underscores to make large numbers easier to read."
      ]
    },
    {
      "cell_type": "code",
      "execution_count": 70,
      "id": "e19bf7e7",
      "metadata": {
        "id": "e19bf7e7",
        "outputId": "7984c9dd-2f71-4046-d604-744143298c78",
        "colab": {
          "base_uri": "https://localhost:8080/"
        }
      },
      "outputs": [
        {
          "output_type": "execute_result",
          "data": {
            "text/plain": [
              "1000000"
            ]
          },
          "metadata": {},
          "execution_count": 70
        }
      ],
      "source": [
        "1_000_000"
      ]
    },
    {
      "cell_type": "markdown",
      "id": "1761cbac",
      "metadata": {
        "id": "1761cbac"
      },
      "source": [
        "## Formal and natural languages\n",
        "\n",
        "**Natural languages** are the languages people speak, like English, Spanish, and French. They were not designed by people; they evolved naturally.\n",
        "\n",
        "**Formal languages** are languages that are designed by people for specific applications.\n",
        "For example, the notation that mathematicians use is a formal language that is particularly good at denoting relationships among numbers and symbols.\n",
        "Similarly, programming languages are formal languages that have been designed to express computations."
      ]
    },
    {
      "cell_type": "markdown",
      "id": "1bf3d2dc",
      "metadata": {
        "id": "1bf3d2dc"
      },
      "source": [
        "Although formal and natural languages have some features in\n",
        "common there are important differences:\n",
        "\n",
        "* Ambiguity: Natural languages are full of ambiguity, which people deal with by\n",
        "    using contextual clues and other information. Formal languages are\n",
        "    designed to be nearly or completely unambiguous, which means that\n",
        "    any program has exactly one meaning, regardless of context.\n",
        "\n",
        "* Redundancy: In order to make up for ambiguity and reduce misunderstandings,\n",
        "    natural languages use redundancy. As a result, they are\n",
        "    often verbose. Formal languages are less redundant and more concise.\n",
        "\n",
        "* Literalness: Natural languages are full of idiom and metaphor. Formal languages mean exactly what they say."
      ]
    },
    {
      "cell_type": "markdown",
      "id": "78a1cec8",
      "metadata": {
        "id": "78a1cec8"
      },
      "source": [
        "Because we all grow up speaking natural languages, it is sometimes hard to adjust to formal languages.\n",
        "Formal languages are more dense than natural languages, so it takes longer to read them.\n",
        "Also, the structure is important, so it is not always best to read from top to bottom, left to right.\n",
        "Finally, the details matter. Small errors in spelling and\n",
        "punctuation, which you can get away with in natural languages, can make\n",
        "a big difference in a formal language."
      ]
    },
    {
      "cell_type": "markdown",
      "id": "4358fa9a",
      "metadata": {
        "id": "4358fa9a"
      },
      "source": [
        "## Debugging\n",
        "\n",
        "Programmers make mistakes. For whimsical reasons, programming errors are called **bugs** and the process of tracking them down is called **debugging**.\n",
        "\n",
        "Programming, and especially debugging, sometimes brings out strong emotions. If you are struggling with a difficult bug, you might feel angry, sad, or embarrassed.\n",
        "\n",
        "Preparing for these reactions might help you deal with them. One approach is to think of the computer as an employee with certain strengths, like speed and precision, and particular weaknesses, like lack of empathy and inability to grasp the big picture.\n",
        "\n",
        "Your job is to be a good manager: find ways to take advantage of the strengths and mitigate the weaknesses. And find ways to use your emotions to engage with the problem, without letting your reactions interfere with your ability to work effectively.\n",
        "\n",
        "Learning to debug can be frustrating, but it is a valuable skill that is useful for many activities beyond programming. At the end of each chapter there is a section, like this one, with my suggestions for debugging. I hope they help!"
      ]
    },
    {
      "cell_type": "markdown",
      "id": "33b8ad00",
      "metadata": {
        "id": "33b8ad00"
      },
      "source": [
        "## Glossary\n",
        "\n",
        "**arithmetic operator:**\n",
        "A symbol, like `+` and `*`, that denotes an arithmetic operation like addition or multiplication.\n",
        "\n",
        "**integer:**\n",
        "A type that represents numbers with no fractional or decimal part.\n",
        "\n",
        "**floating-point:**\n",
        "A type that represents integers and numbers with decimal parts.\n",
        "\n",
        "**integer division:**\n",
        "An operator, `//`, that divides two numbers and rounds down to an integer.\n",
        "\n",
        "**expression:**\n",
        "A combination of variables, values, and operators.\n",
        "\n",
        "**value:**\n",
        "An integer, floating-point number, or string -- or one of other kinds of values we will see later.\n",
        "\n",
        "**function:**\n",
        "A named sequence of statements that performs some useful operation.\n",
        "Functions may or may not take arguments and may or may not produce a result.\n",
        "\n",
        "**function call:**\n",
        "An expression -- or part of an expression -- that runs a function.\n",
        "It consists of the function name followed by an argument list in parentheses.\n",
        "\n",
        "**syntax error:**\n",
        "An error in a program that makes it impossible to parse -- and therefore impossible to run.\n",
        "\n",
        "**string:**\n",
        " A type that represents sequences of characters.\n",
        "\n",
        "**concatenation:**\n",
        "Joining two strings end-to-end.\n",
        "\n",
        "**type:**\n",
        "A category of values.\n",
        "The types we have seen so far are integers (type `int`), floating-point numbers (type ` float`), and strings (type `str`).\n",
        "\n",
        "**operand:**\n",
        "One of the values on which an operator operates.\n",
        "\n",
        "**natural language:**\n",
        "Any of the languages that people speak that evolved naturally.\n",
        "\n",
        "**formal language:**\n",
        "Any of the languages that people have designed for specific purposes, such as representing mathematical ideas or computer programs.\n",
        "All programming languages are formal languages.\n",
        "\n",
        "**bug:**\n",
        "An error in a program.\n",
        "\n",
        "**debugging:**\n",
        "The process of finding and correcting errors."
      ]
    },
    {
      "cell_type": "markdown",
      "id": "ed4ec01b",
      "metadata": {
        "id": "ed4ec01b"
      },
      "source": [
        "## Exercises"
      ]
    },
    {
      "cell_type": "code",
      "execution_count": 71,
      "id": "06d3e72c",
      "metadata": {
        "tags": [],
        "id": "06d3e72c",
        "outputId": "acc5293e-cd11-4ed5-9d97-f697b8be7db6",
        "colab": {
          "base_uri": "https://localhost:8080/"
        }
      },
      "outputs": [
        {
          "output_type": "stream",
          "name": "stdout",
          "text": [
            "Exception reporting mode: Verbose\n"
          ]
        }
      ],
      "source": [
        "# This cell tells Jupyter to provide detailed debugging information\n",
        "# when a runtime error occurs. Run it before working on the exercises.\n",
        "\n",
        "%xmode Verbose"
      ]
    },
    {
      "cell_type": "markdown",
      "id": "23adf208",
      "metadata": {
        "id": "23adf208"
      },
      "source": [
        "### Ask a virtual assistant\n",
        "\n",
        "As you work through this book, there are several ways you can use a virtual assistant or chatbot to help you learn.\n",
        "\n",
        "* If you want to learn more about a topic in the chapter, or anything is unclear, you can ask for an explanation.\n",
        "\n",
        "* If you are having a hard time with any of the exercises, you can ask for help.\n",
        "\n",
        "In each chapter, I'll suggest exercises you can do with a virtual assistant, but I encourage you to try things on your own and see what works for you."
      ]
    },
    {
      "cell_type": "markdown",
      "id": "ebf1a451",
      "metadata": {
        "id": "ebf1a451"
      },
      "source": [
        "Here are some topics you could ask a virtual assistant about:\n",
        "\n",
        "* Earlier I mentioned bitwise operators but I didn't explain why the value of `7 ^ 2` is 5. Try asking \"What are the bitwise operators in Python?\" or \"What is the value of `7 XOR 2`?\"\n",
        "\n",
        "* I also mentioned the order of operations. For more details, ask \"What is the order of operations in Python?\"\n",
        "\n",
        "* The `round` function, which we used to round a floating-point number to the nearest integer, can take a second argument. Try asking \"What are the arguments of the round function?\" or \"How do I round pi off to three decimal places?\"\n",
        "\n",
        "* There's one more arithmetic operator I didn't mention; try asking \"What is the modulus operator in Python?\""
      ]
    },
    {
      "cell_type": "markdown",
      "id": "9be3e1c7",
      "metadata": {
        "id": "9be3e1c7"
      },
      "source": [
        "Most virtual assistants know about Python, so they answer questions like this pretty reliably.\n",
        "But remember that these tools make mistakes.\n",
        "If you get code from a chatbot, test it!"
      ]
    },
    {
      "cell_type": "markdown",
      "id": "03c1ef93",
      "metadata": {
        "id": "03c1ef93"
      },
      "source": [
        "### Exercise\n",
        "\n",
        "You might wonder what `round` does if a number ends in `0.5`.\n",
        "The answer is that it sometimes rounds up and sometimes rounds down.\n",
        "Try these examples and see if you can figure out what rule it follows."
      ]
    },
    {
      "cell_type": "code",
      "execution_count": 72,
      "id": "5d358f37",
      "metadata": {
        "id": "5d358f37",
        "outputId": "80e8439c-87e4-4115-fbbe-2fb26a37e116",
        "colab": {
          "base_uri": "https://localhost:8080/"
        }
      },
      "outputs": [
        {
          "output_type": "execute_result",
          "data": {
            "text/plain": [
              "42"
            ]
          },
          "metadata": {},
          "execution_count": 72
        }
      ],
      "source": [
        "round(42.5)"
      ]
    },
    {
      "cell_type": "code",
      "execution_count": 73,
      "id": "12aa59a3",
      "metadata": {
        "id": "12aa59a3",
        "outputId": "d72a9d45-cabf-4e17-cae7-1ca8d23781a7",
        "colab": {
          "base_uri": "https://localhost:8080/"
        }
      },
      "outputs": [
        {
          "output_type": "execute_result",
          "data": {
            "text/plain": [
              "44"
            ]
          },
          "metadata": {},
          "execution_count": 73
        }
      ],
      "source": [
        "round(43.5)"
      ]
    },
    {
      "cell_type": "markdown",
      "id": "dd2f890e",
      "metadata": {
        "id": "dd2f890e"
      },
      "source": [
        "If you are curious, ask a virtual assistant, \"If a number ends in 0.5, does Python round up or down?\""
      ]
    },
    {
      "cell_type": "markdown",
      "id": "2cd03bcb",
      "metadata": {
        "id": "2cd03bcb"
      },
      "source": [
        "### Exercise\n",
        "\n",
        "When you learn about a new feature, you should try it out and make mistakes on purpose.\n",
        "That way, you learn the error messages, and when you see them again, you will know what they mean.\n",
        "It is better to make mistakes now and deliberately than later and accidentally.\n",
        "\n",
        "1.  You can use a minus sign to make a negative number like `-2`. What happens if you put a plus sign before a number? What about `2++2`?\n",
        "\n",
        "2.  What happens if you have two values with no operator between them, like `4 2`?\n",
        "\n",
        "3.  If you call a function like `round(42.5)`, what happens if you leave out one or both parentheses?"
      ]
    },
    {
      "cell_type": "markdown",
      "id": "1fb0adfe",
      "metadata": {
        "id": "1fb0adfe"
      },
      "source": [
        "### Exercise\n",
        "\n",
        "Recall that every expression has a value, every value has a type, and we can use the `type` function to find the type of any value.\n",
        "\n",
        "What is the type of the value of the following expressions? Make your best guess for each one, and then use `type` to find out.\n",
        "\n",
        "* `765`\n",
        "\n",
        "* `2.718`\n",
        "\n",
        "* `'2 pi'`\n",
        "\n",
        "* `abs(-7)`\n",
        "\n",
        "* `abs(-7.0)`\n",
        "\n",
        "* `abs`\n",
        "\n",
        "* `int`\n",
        "\n",
        "* `type`"
      ]
    },
    {
      "cell_type": "markdown",
      "id": "23762eec",
      "metadata": {
        "id": "23762eec"
      },
      "source": [
        "### Exercise\n",
        "\n",
        "The following questions give you a chance to practice writing arithmetic expressions.\n",
        "\n",
        "1.  How many seconds are there in 42 minutes 42 seconds?\n",
        "\n",
        "2.  How many miles are there in 10 kilometers? Hint: there are 1.61 kilometers in a mile.\n",
        "\n",
        "3.  If you run a 10 kilometer race in 42 minutes 42 seconds, what is your average pace in seconds per mile?\n",
        "    \n",
        "4.  What is your average pace in minutes and seconds per mile?\n",
        "\n",
        "5.  What is your average speed in miles per hour?\n",
        "\n",
        "If you already know about variables, you can use them for this exercise.\n",
        "If you don't, you can do the exercise without them -- and then we'll see them in the next chapter."
      ]
    },
    {
      "cell_type": "code",
      "execution_count": 74,
      "id": "8fb50f30",
      "metadata": {
        "id": "8fb50f30"
      },
      "outputs": [],
      "source": [
        "# Solution goes here"
      ]
    },
    {
      "cell_type": "code",
      "execution_count": 75,
      "id": "5eceb4fb",
      "metadata": {
        "id": "5eceb4fb"
      },
      "outputs": [],
      "source": [
        "# Solution goes here"
      ]
    },
    {
      "cell_type": "code",
      "execution_count": 76,
      "id": "fee97d8d",
      "metadata": {
        "id": "fee97d8d"
      },
      "outputs": [],
      "source": [
        "# Solution goes here"
      ]
    },
    {
      "cell_type": "code",
      "execution_count": 77,
      "id": "a998258c",
      "metadata": {
        "id": "a998258c"
      },
      "outputs": [],
      "source": [
        "# Solution goes here"
      ]
    },
    {
      "cell_type": "code",
      "execution_count": 78,
      "id": "2e0fc7a9",
      "metadata": {
        "id": "2e0fc7a9"
      },
      "outputs": [],
      "source": [
        "# Solution goes here"
      ]
    },
    {
      "cell_type": "code",
      "execution_count": 79,
      "id": "d25268d8",
      "metadata": {
        "id": "d25268d8"
      },
      "outputs": [],
      "source": [
        "# Solution goes here"
      ]
    },
    {
      "cell_type": "code",
      "execution_count": 80,
      "id": "523d9b0f",
      "metadata": {
        "id": "523d9b0f"
      },
      "outputs": [],
      "source": [
        "# Solution goes here"
      ]
    },
    {
      "cell_type": "code",
      "execution_count": 80,
      "id": "ca083ccf",
      "metadata": {
        "id": "ca083ccf"
      },
      "outputs": [],
      "source": []
    },
    {
      "cell_type": "markdown",
      "id": "a7f4edf8",
      "metadata": {
        "tags": [],
        "id": "a7f4edf8"
      },
      "source": [
        "[Think Python: 3rd Edition](https://allendowney.github.io/ThinkPython/index.html)\n",
        "\n",
        "Copyright 2024 [Allen B. Downey](https://allendowney.com)\n",
        "\n",
        "Code license: [MIT License](https://mit-license.org/)\n",
        "\n",
        "Text license: [Creative Commons Attribution-NonCommercial-ShareAlike 4.0 International](https://creativecommons.org/licenses/by-nc-sa/4.0/)"
      ]
    }
  ],
  "metadata": {
    "celltoolbar": "Tags",
    "kernelspec": {
      "display_name": "Python 3 (ipykernel)",
      "language": "python",
      "name": "python3"
    },
    "language_info": {
      "codemirror_mode": {
        "name": "ipython",
        "version": 3
      },
      "file_extension": ".py",
      "mimetype": "text/x-python",
      "name": "python",
      "nbconvert_exporter": "python",
      "pygments_lexer": "ipython3",
      "version": "3.10.11"
    },
    "colab": {
      "provenance": []
    }
  },
  "nbformat": 4,
  "nbformat_minor": 5
}